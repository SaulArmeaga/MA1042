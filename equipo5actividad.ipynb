{
  "nbformat": 4,
  "nbformat_minor": 0,
  "metadata": {
    "colab": {
      "provenance": [],
      "include_colab_link": true
    },
    "kernelspec": {
      "name": "python3",
      "display_name": "Python 3"
    },
    "language_info": {
      "name": "python"
    }
  },
  "cells": [
    {
      "cell_type": "markdown",
      "metadata": {
        "id": "view-in-github",
        "colab_type": "text"
      },
      "source": [
        "<a href=\"https://colab.research.google.com/github/SaulArmeaga/MA1042/blob/main/equipo5actividad.ipynb\" target=\"_parent\"><img src=\"https://colab.research.google.com/assets/colab-badge.svg\" alt=\"Open In Colab\"/></a>"
      ]
    },
    {
      "cell_type": "markdown",
      "source": [
        "#Integrantes:\n",
        "\n",
        "---\n",
        "\n"
      ],
      "metadata": {
        "id": "osdaWyZXmVul"
      }
    },
    {
      "cell_type": "markdown",
      "source": [
        "\n",
        "\n",
        "*   Gustavo Cruz García A0136931\n",
        "\n",
        "*   Miranda Hernández Gutiérrez A01771479\n",
        "*   Ana Cecilia Dotor García A01771630\n",
        "\n",
        "\n",
        "*   Mónica Estrada Mondragón A01771629\n",
        "*   Itzia Ximena Vázquez Hernández A01369786\n",
        "\n",
        "\n",
        "\n",
        "\n"
      ],
      "metadata": {
        "id": "qXf3dOyrmeoQ"
      }
    },
    {
      "cell_type": "markdown",
      "source": [
        "#Contexto del proyecto"
      ],
      "metadata": {
        "id": "lltjnKiVnqVd"
      }
    },
    {
      "cell_type": "markdown",
      "source": [
        "Contexto del proyecto: Accidentes de tránsito.\n",
        "Se incluye un registro por persona implicada en el accidente.\n",
        "En el año 2019 y posteriores:\n",
        "La estructura de datos varía respecto a los años anteriores. El detalle de estas estructuras está disponible en el apartado 'Documentación Asociada'\n",
        "No se incluyen registros de testigos\n",
        "Los ficheros de 2010 a 2018 solo registran los accidentes con heridos o con daños al patrimonio municipal.\n",
        "Los datos publicados son provisionales hasta seis meses después del año vencido.\n",
        "Actualmente no se dispone de datos por barrio.\n",
        "Este portal también ofrece dos conjuntos de datos con información relacionada como son:\n",
        "\n",
        "Datos estadísticos de actuaciones de la Policía Municipal (incluye datos de atestados/partes de accidente por distrito y año)\n",
        "Accidentes de tráfico con implicación de bicicletas"
      ],
      "metadata": {
        "id": "PAC6utYxnDr9"
      }
    },
    {
      "cell_type": "markdown",
      "source": [
        "#Programa"
      ],
      "metadata": {
        "id": "rqdQ_Rn7nflf"
      }
    },
    {
      "cell_type": "markdown",
      "source": [
        "#Lectura del archivo"
      ],
      "metadata": {
        "id": "yN4QLfPnnldS"
      }
    },
    {
      "cell_type": "markdown",
      "source": [
        "Importamos las líbrerias necesarias"
      ],
      "metadata": {
        "id": "wJeHd7e_lGf1"
      }
    },
    {
      "cell_type": "code",
      "source": [
        "import pandas as pd\n",
        "import numpy as np\n",
        "import matplotlib.pyplot as plt"
      ],
      "metadata": {
        "id": "QU0byqVllQGo"
      },
      "execution_count": 20,
      "outputs": []
    },
    {
      "cell_type": "markdown",
      "source": [
        "Cargamos el archivo de drive\n"
      ],
      "metadata": {
        "id": "UaGpwYZwleh8"
      }
    },
    {
      "cell_type": "code",
      "source": [
        "# Cargar el dataset desde un archivo\n",
        "df_trafico= pd.read_excel('Accidentalidad (3).xlsx')\n",
        "df_trafico\n"
      ],
      "metadata": {
        "id": "_c9EE7sMliIN",
        "colab": {
          "base_uri": "https://localhost:8080/",
          "height": 1000
        },
        "outputId": "0fe28630-9656-465f-b427-1e62d1abacbc"
      },
      "execution_count": 19,
      "outputs": [
        {
          "output_type": "execute_result",
          "data": {
            "text/plain": [
              "       num_expediente      fecha      hora  \\\n",
              "0         2022S000001 2022-01-01  01:30:00   \n",
              "1         2022S000001 2022-01-01  01:30:00   \n",
              "2         2022S000002 2022-01-01  00:30:00   \n",
              "3         2022S000002 2022-01-01  00:30:00   \n",
              "4         2022S000002 2022-01-01  00:30:00   \n",
              "...               ...        ...       ...   \n",
              "185263    2019S039993 2019-11-10  11:00:00   \n",
              "185264    2019S040001 2019-03-13  12:47:00   \n",
              "185265    2019S040001 2019-03-13  12:47:00   \n",
              "185266    2019S040007 2019-11-03  10:10:00   \n",
              "185267    2019S040007 2019-11-03  10:10:00   \n",
              "\n",
              "                                      localizacion numero  cod_distrito  \\\n",
              "0                               AVDA. ALBUFERA, 19     19          13.0   \n",
              "1                               AVDA. ALBUFERA, 19     19          13.0   \n",
              "2       PLAZA. CANOVAS DEL CASTILLO / PASEO. PRADO      2           3.0   \n",
              "3       PLAZA. CANOVAS DEL CASTILLO / PASEO. PRADO      2           3.0   \n",
              "4       PLAZA. CANOVAS DEL CASTILLO / PASEO. PRADO      2           3.0   \n",
              "...                                            ...    ...           ...   \n",
              "185263       PLAZA. ELIPTICA / CALL. MARCELO USERA      1          12.0   \n",
              "185264        CALL. ALFONSO FERNANDEZ CLAUSELLS, 7      7           9.0   \n",
              "185265        CALL. ALFONSO FERNANDEZ CLAUSELLS, 7      7           9.0   \n",
              "185266                  CALL. HALCONERO DEL REY, 0      0          11.0   \n",
              "185267                  CALL. HALCONERO DEL REY, 0      0          11.0   \n",
              "\n",
              "                  distrito                tipo_accidente estado_meteorológico  \\\n",
              "0       PUENTE DE VALLECAS                       Alcance            Despejado   \n",
              "1       PUENTE DE VALLECAS                       Alcance            Despejado   \n",
              "2                   RETIRO       Colisión fronto-lateral                  NaN   \n",
              "3                   RETIRO       Colisión fronto-lateral                  NaN   \n",
              "4                   RETIRO       Colisión fronto-lateral                  NaN   \n",
              "...                    ...                           ...                  ...   \n",
              "185263               USERA              Colisión lateral            Despejado   \n",
              "185264     MONCLOA-ARAVACA  Choque contra obstáculo fijo            Despejado   \n",
              "185265     MONCLOA-ARAVACA  Choque contra obstáculo fijo            Despejado   \n",
              "185266         CARABANCHEL       Colisión fronto-lateral            Despejado   \n",
              "185267         CARABANCHEL       Colisión fronto-lateral            Despejado   \n",
              "\n",
              "                  tipo_vehiculo tipo_persona       rango_edad         sexo  \\\n",
              "0                       Turismo    Conductor  De 30 a 34 años        Mujer   \n",
              "1                       Turismo    Conductor  De 45 a 49 años       Hombre   \n",
              "2       Motocicleta hasta 125cc    Conductor  De 30 a 34 años       Hombre   \n",
              "3       Motocicleta hasta 125cc     Pasajero  De 35 a 39 años        Mujer   \n",
              "4                       Turismo    Conductor  De 40 a 44 años       Hombre   \n",
              "...                         ...          ...              ...          ...   \n",
              "185263                  Turismo     Pasajero  De 60 a 64 años        Mujer   \n",
              "185264                  Turismo    Conductor      Desconocido  Desconocido   \n",
              "185265                  Turismo    Conductor   Más de 74 años        Mujer   \n",
              "185266                  Turismo    Conductor  De 25 a 29 años        Mujer   \n",
              "185267                  Turismo    Conductor  De 35 a 39 años       Hombre   \n",
              "\n",
              "        cod_lesividad                 lesividad  coordenada_x_utm  \\\n",
              "0                 NaN                       NaN        443359.226   \n",
              "1                 NaN                       NaN        443359.226   \n",
              "2                 NaN                       NaN        441155.351   \n",
              "3                 NaN                       NaN        441155.351   \n",
              "4                 NaN                       NaN        441155.351   \n",
              "...               ...                       ...               ...   \n",
              "185263           14.0  Sin asistencia sanitaria        439115.482   \n",
              "185264            NaN                       NaN        438541.541   \n",
              "185265            NaN                       NaN        438541.541   \n",
              "185266            NaN                       NaN        438343.989   \n",
              "185267            NaN                       NaN        438343.989   \n",
              "\n",
              "        coordenada_y_utm positiva_alcohol  positiva_droga  \n",
              "0            4472082.272                N             NaN  \n",
              "1            4472082.272                N             NaN  \n",
              "2            4474129.588                S             NaN  \n",
              "3            4474129.588                N             NaN  \n",
              "4            4474129.588                N             NaN  \n",
              "...                  ...              ...             ...  \n",
              "185263       4470746.354                N             NaN  \n",
              "185264       4479292.853                N             NaN  \n",
              "185265       4479292.853                N             NaN  \n",
              "185266       4468673.466                N             NaN  \n",
              "185267       4468673.466                N             NaN  \n",
              "\n",
              "[185268 rows x 19 columns]"
            ],
            "text/html": [
              "\n",
              "  <div id=\"df-e760a4ba-0ad4-486e-97c6-814f2cad75eb\">\n",
              "    <div class=\"colab-df-container\">\n",
              "      <div>\n",
              "<style scoped>\n",
              "    .dataframe tbody tr th:only-of-type {\n",
              "        vertical-align: middle;\n",
              "    }\n",
              "\n",
              "    .dataframe tbody tr th {\n",
              "        vertical-align: top;\n",
              "    }\n",
              "\n",
              "    .dataframe thead th {\n",
              "        text-align: right;\n",
              "    }\n",
              "</style>\n",
              "<table border=\"1\" class=\"dataframe\">\n",
              "  <thead>\n",
              "    <tr style=\"text-align: right;\">\n",
              "      <th></th>\n",
              "      <th>num_expediente</th>\n",
              "      <th>fecha</th>\n",
              "      <th>hora</th>\n",
              "      <th>localizacion</th>\n",
              "      <th>numero</th>\n",
              "      <th>cod_distrito</th>\n",
              "      <th>distrito</th>\n",
              "      <th>tipo_accidente</th>\n",
              "      <th>estado_meteorológico</th>\n",
              "      <th>tipo_vehiculo</th>\n",
              "      <th>tipo_persona</th>\n",
              "      <th>rango_edad</th>\n",
              "      <th>sexo</th>\n",
              "      <th>cod_lesividad</th>\n",
              "      <th>lesividad</th>\n",
              "      <th>coordenada_x_utm</th>\n",
              "      <th>coordenada_y_utm</th>\n",
              "      <th>positiva_alcohol</th>\n",
              "      <th>positiva_droga</th>\n",
              "    </tr>\n",
              "  </thead>\n",
              "  <tbody>\n",
              "    <tr>\n",
              "      <th>0</th>\n",
              "      <td>2022S000001</td>\n",
              "      <td>2022-01-01</td>\n",
              "      <td>01:30:00</td>\n",
              "      <td>AVDA. ALBUFERA, 19</td>\n",
              "      <td>19</td>\n",
              "      <td>13.0</td>\n",
              "      <td>PUENTE DE VALLECAS</td>\n",
              "      <td>Alcance</td>\n",
              "      <td>Despejado</td>\n",
              "      <td>Turismo</td>\n",
              "      <td>Conductor</td>\n",
              "      <td>De 30 a 34 años</td>\n",
              "      <td>Mujer</td>\n",
              "      <td>NaN</td>\n",
              "      <td>NaN</td>\n",
              "      <td>443359.226</td>\n",
              "      <td>4472082.272</td>\n",
              "      <td>N</td>\n",
              "      <td>NaN</td>\n",
              "    </tr>\n",
              "    <tr>\n",
              "      <th>1</th>\n",
              "      <td>2022S000001</td>\n",
              "      <td>2022-01-01</td>\n",
              "      <td>01:30:00</td>\n",
              "      <td>AVDA. ALBUFERA, 19</td>\n",
              "      <td>19</td>\n",
              "      <td>13.0</td>\n",
              "      <td>PUENTE DE VALLECAS</td>\n",
              "      <td>Alcance</td>\n",
              "      <td>Despejado</td>\n",
              "      <td>Turismo</td>\n",
              "      <td>Conductor</td>\n",
              "      <td>De 45 a 49 años</td>\n",
              "      <td>Hombre</td>\n",
              "      <td>NaN</td>\n",
              "      <td>NaN</td>\n",
              "      <td>443359.226</td>\n",
              "      <td>4472082.272</td>\n",
              "      <td>N</td>\n",
              "      <td>NaN</td>\n",
              "    </tr>\n",
              "    <tr>\n",
              "      <th>2</th>\n",
              "      <td>2022S000002</td>\n",
              "      <td>2022-01-01</td>\n",
              "      <td>00:30:00</td>\n",
              "      <td>PLAZA. CANOVAS DEL CASTILLO / PASEO. PRADO</td>\n",
              "      <td>2</td>\n",
              "      <td>3.0</td>\n",
              "      <td>RETIRO</td>\n",
              "      <td>Colisión fronto-lateral</td>\n",
              "      <td>NaN</td>\n",
              "      <td>Motocicleta hasta 125cc</td>\n",
              "      <td>Conductor</td>\n",
              "      <td>De 30 a 34 años</td>\n",
              "      <td>Hombre</td>\n",
              "      <td>NaN</td>\n",
              "      <td>NaN</td>\n",
              "      <td>441155.351</td>\n",
              "      <td>4474129.588</td>\n",
              "      <td>S</td>\n",
              "      <td>NaN</td>\n",
              "    </tr>\n",
              "    <tr>\n",
              "      <th>3</th>\n",
              "      <td>2022S000002</td>\n",
              "      <td>2022-01-01</td>\n",
              "      <td>00:30:00</td>\n",
              "      <td>PLAZA. CANOVAS DEL CASTILLO / PASEO. PRADO</td>\n",
              "      <td>2</td>\n",
              "      <td>3.0</td>\n",
              "      <td>RETIRO</td>\n",
              "      <td>Colisión fronto-lateral</td>\n",
              "      <td>NaN</td>\n",
              "      <td>Motocicleta hasta 125cc</td>\n",
              "      <td>Pasajero</td>\n",
              "      <td>De 35 a 39 años</td>\n",
              "      <td>Mujer</td>\n",
              "      <td>NaN</td>\n",
              "      <td>NaN</td>\n",
              "      <td>441155.351</td>\n",
              "      <td>4474129.588</td>\n",
              "      <td>N</td>\n",
              "      <td>NaN</td>\n",
              "    </tr>\n",
              "    <tr>\n",
              "      <th>4</th>\n",
              "      <td>2022S000002</td>\n",
              "      <td>2022-01-01</td>\n",
              "      <td>00:30:00</td>\n",
              "      <td>PLAZA. CANOVAS DEL CASTILLO / PASEO. PRADO</td>\n",
              "      <td>2</td>\n",
              "      <td>3.0</td>\n",
              "      <td>RETIRO</td>\n",
              "      <td>Colisión fronto-lateral</td>\n",
              "      <td>NaN</td>\n",
              "      <td>Turismo</td>\n",
              "      <td>Conductor</td>\n",
              "      <td>De 40 a 44 años</td>\n",
              "      <td>Hombre</td>\n",
              "      <td>NaN</td>\n",
              "      <td>NaN</td>\n",
              "      <td>441155.351</td>\n",
              "      <td>4474129.588</td>\n",
              "      <td>N</td>\n",
              "      <td>NaN</td>\n",
              "    </tr>\n",
              "    <tr>\n",
              "      <th>...</th>\n",
              "      <td>...</td>\n",
              "      <td>...</td>\n",
              "      <td>...</td>\n",
              "      <td>...</td>\n",
              "      <td>...</td>\n",
              "      <td>...</td>\n",
              "      <td>...</td>\n",
              "      <td>...</td>\n",
              "      <td>...</td>\n",
              "      <td>...</td>\n",
              "      <td>...</td>\n",
              "      <td>...</td>\n",
              "      <td>...</td>\n",
              "      <td>...</td>\n",
              "      <td>...</td>\n",
              "      <td>...</td>\n",
              "      <td>...</td>\n",
              "      <td>...</td>\n",
              "      <td>...</td>\n",
              "    </tr>\n",
              "    <tr>\n",
              "      <th>185263</th>\n",
              "      <td>2019S039993</td>\n",
              "      <td>2019-11-10</td>\n",
              "      <td>11:00:00</td>\n",
              "      <td>PLAZA. ELIPTICA / CALL. MARCELO USERA</td>\n",
              "      <td>1</td>\n",
              "      <td>12.0</td>\n",
              "      <td>USERA</td>\n",
              "      <td>Colisión lateral</td>\n",
              "      <td>Despejado</td>\n",
              "      <td>Turismo</td>\n",
              "      <td>Pasajero</td>\n",
              "      <td>De 60 a 64 años</td>\n",
              "      <td>Mujer</td>\n",
              "      <td>14.0</td>\n",
              "      <td>Sin asistencia sanitaria</td>\n",
              "      <td>439115.482</td>\n",
              "      <td>4470746.354</td>\n",
              "      <td>N</td>\n",
              "      <td>NaN</td>\n",
              "    </tr>\n",
              "    <tr>\n",
              "      <th>185264</th>\n",
              "      <td>2019S040001</td>\n",
              "      <td>2019-03-13</td>\n",
              "      <td>12:47:00</td>\n",
              "      <td>CALL. ALFONSO FERNANDEZ CLAUSELLS, 7</td>\n",
              "      <td>7</td>\n",
              "      <td>9.0</td>\n",
              "      <td>MONCLOA-ARAVACA</td>\n",
              "      <td>Choque contra obstáculo fijo</td>\n",
              "      <td>Despejado</td>\n",
              "      <td>Turismo</td>\n",
              "      <td>Conductor</td>\n",
              "      <td>Desconocido</td>\n",
              "      <td>Desconocido</td>\n",
              "      <td>NaN</td>\n",
              "      <td>NaN</td>\n",
              "      <td>438541.541</td>\n",
              "      <td>4479292.853</td>\n",
              "      <td>N</td>\n",
              "      <td>NaN</td>\n",
              "    </tr>\n",
              "    <tr>\n",
              "      <th>185265</th>\n",
              "      <td>2019S040001</td>\n",
              "      <td>2019-03-13</td>\n",
              "      <td>12:47:00</td>\n",
              "      <td>CALL. ALFONSO FERNANDEZ CLAUSELLS, 7</td>\n",
              "      <td>7</td>\n",
              "      <td>9.0</td>\n",
              "      <td>MONCLOA-ARAVACA</td>\n",
              "      <td>Choque contra obstáculo fijo</td>\n",
              "      <td>Despejado</td>\n",
              "      <td>Turismo</td>\n",
              "      <td>Conductor</td>\n",
              "      <td>Más de 74 años</td>\n",
              "      <td>Mujer</td>\n",
              "      <td>NaN</td>\n",
              "      <td>NaN</td>\n",
              "      <td>438541.541</td>\n",
              "      <td>4479292.853</td>\n",
              "      <td>N</td>\n",
              "      <td>NaN</td>\n",
              "    </tr>\n",
              "    <tr>\n",
              "      <th>185266</th>\n",
              "      <td>2019S040007</td>\n",
              "      <td>2019-11-03</td>\n",
              "      <td>10:10:00</td>\n",
              "      <td>CALL. HALCONERO DEL REY, 0</td>\n",
              "      <td>0</td>\n",
              "      <td>11.0</td>\n",
              "      <td>CARABANCHEL</td>\n",
              "      <td>Colisión fronto-lateral</td>\n",
              "      <td>Despejado</td>\n",
              "      <td>Turismo</td>\n",
              "      <td>Conductor</td>\n",
              "      <td>De 25 a 29 años</td>\n",
              "      <td>Mujer</td>\n",
              "      <td>NaN</td>\n",
              "      <td>NaN</td>\n",
              "      <td>438343.989</td>\n",
              "      <td>4468673.466</td>\n",
              "      <td>N</td>\n",
              "      <td>NaN</td>\n",
              "    </tr>\n",
              "    <tr>\n",
              "      <th>185267</th>\n",
              "      <td>2019S040007</td>\n",
              "      <td>2019-11-03</td>\n",
              "      <td>10:10:00</td>\n",
              "      <td>CALL. HALCONERO DEL REY, 0</td>\n",
              "      <td>0</td>\n",
              "      <td>11.0</td>\n",
              "      <td>CARABANCHEL</td>\n",
              "      <td>Colisión fronto-lateral</td>\n",
              "      <td>Despejado</td>\n",
              "      <td>Turismo</td>\n",
              "      <td>Conductor</td>\n",
              "      <td>De 35 a 39 años</td>\n",
              "      <td>Hombre</td>\n",
              "      <td>NaN</td>\n",
              "      <td>NaN</td>\n",
              "      <td>438343.989</td>\n",
              "      <td>4468673.466</td>\n",
              "      <td>N</td>\n",
              "      <td>NaN</td>\n",
              "    </tr>\n",
              "  </tbody>\n",
              "</table>\n",
              "<p>185268 rows × 19 columns</p>\n",
              "</div>\n",
              "      <button class=\"colab-df-convert\" onclick=\"convertToInteractive('df-e760a4ba-0ad4-486e-97c6-814f2cad75eb')\"\n",
              "              title=\"Convert this dataframe to an interactive table.\"\n",
              "              style=\"display:none;\">\n",
              "        \n",
              "  <svg xmlns=\"http://www.w3.org/2000/svg\" height=\"24px\"viewBox=\"0 0 24 24\"\n",
              "       width=\"24px\">\n",
              "    <path d=\"M0 0h24v24H0V0z\" fill=\"none\"/>\n",
              "    <path d=\"M18.56 5.44l.94 2.06.94-2.06 2.06-.94-2.06-.94-.94-2.06-.94 2.06-2.06.94zm-11 1L8.5 8.5l.94-2.06 2.06-.94-2.06-.94L8.5 2.5l-.94 2.06-2.06.94zm10 10l.94 2.06.94-2.06 2.06-.94-2.06-.94-.94-2.06-.94 2.06-2.06.94z\"/><path d=\"M17.41 7.96l-1.37-1.37c-.4-.4-.92-.59-1.43-.59-.52 0-1.04.2-1.43.59L10.3 9.45l-7.72 7.72c-.78.78-.78 2.05 0 2.83L4 21.41c.39.39.9.59 1.41.59.51 0 1.02-.2 1.41-.59l7.78-7.78 2.81-2.81c.8-.78.8-2.07 0-2.86zM5.41 20L4 18.59l7.72-7.72 1.47 1.35L5.41 20z\"/>\n",
              "  </svg>\n",
              "      </button>\n",
              "      \n",
              "  <style>\n",
              "    .colab-df-container {\n",
              "      display:flex;\n",
              "      flex-wrap:wrap;\n",
              "      gap: 12px;\n",
              "    }\n",
              "\n",
              "    .colab-df-convert {\n",
              "      background-color: #E8F0FE;\n",
              "      border: none;\n",
              "      border-radius: 50%;\n",
              "      cursor: pointer;\n",
              "      display: none;\n",
              "      fill: #1967D2;\n",
              "      height: 32px;\n",
              "      padding: 0 0 0 0;\n",
              "      width: 32px;\n",
              "    }\n",
              "\n",
              "    .colab-df-convert:hover {\n",
              "      background-color: #E2EBFA;\n",
              "      box-shadow: 0px 1px 2px rgba(60, 64, 67, 0.3), 0px 1px 3px 1px rgba(60, 64, 67, 0.15);\n",
              "      fill: #174EA6;\n",
              "    }\n",
              "\n",
              "    [theme=dark] .colab-df-convert {\n",
              "      background-color: #3B4455;\n",
              "      fill: #D2E3FC;\n",
              "    }\n",
              "\n",
              "    [theme=dark] .colab-df-convert:hover {\n",
              "      background-color: #434B5C;\n",
              "      box-shadow: 0px 1px 3px 1px rgba(0, 0, 0, 0.15);\n",
              "      filter: drop-shadow(0px 1px 2px rgba(0, 0, 0, 0.3));\n",
              "      fill: #FFFFFF;\n",
              "    }\n",
              "  </style>\n",
              "\n",
              "      <script>\n",
              "        const buttonEl =\n",
              "          document.querySelector('#df-e760a4ba-0ad4-486e-97c6-814f2cad75eb button.colab-df-convert');\n",
              "        buttonEl.style.display =\n",
              "          google.colab.kernel.accessAllowed ? 'block' : 'none';\n",
              "\n",
              "        async function convertToInteractive(key) {\n",
              "          const element = document.querySelector('#df-e760a4ba-0ad4-486e-97c6-814f2cad75eb');\n",
              "          const dataTable =\n",
              "            await google.colab.kernel.invokeFunction('convertToInteractive',\n",
              "                                                     [key], {});\n",
              "          if (!dataTable) return;\n",
              "\n",
              "          const docLinkHtml = 'Like what you see? Visit the ' +\n",
              "            '<a target=\"_blank\" href=https://colab.research.google.com/notebooks/data_table.ipynb>data table notebook</a>'\n",
              "            + ' to learn more about interactive tables.';\n",
              "          element.innerHTML = '';\n",
              "          dataTable['output_type'] = 'display_data';\n",
              "          await google.colab.output.renderOutput(dataTable, element);\n",
              "          const docLink = document.createElement('div');\n",
              "          docLink.innerHTML = docLinkHtml;\n",
              "          element.appendChild(docLink);\n",
              "        }\n",
              "      </script>\n",
              "    </div>\n",
              "  </div>\n",
              "  "
            ]
          },
          "metadata": {},
          "execution_count": 19
        }
      ]
    },
    {
      "cell_type": "code",
      "source": [
        "#drive.mount('/content/drive')"
      ],
      "metadata": {
        "id": "Lal3zHlDw45f"
      },
      "execution_count": 15,
      "outputs": []
    },
    {
      "cell_type": "markdown",
      "source": [
        "Identificamos datos NaN o no válidos o valores nulos\n"
      ],
      "metadata": {
        "id": "2Ola9_cinH05"
      }
    },
    {
      "cell_type": "code",
      "source": [
        "df_trafico.isna().sum()"
      ],
      "metadata": {
        "id": "t6quS4Zlaw2t",
        "colab": {
          "base_uri": "https://localhost:8080/"
        },
        "outputId": "d153ee50-3bef-49fc-e6ba-ae96eb1a7c5a"
      },
      "execution_count": 16,
      "outputs": [
        {
          "output_type": "execute_result",
          "data": {
            "text/plain": [
              "num_expediente               0\n",
              "fecha                        0\n",
              "hora                         0\n",
              "localizacion                 0\n",
              "numero                       6\n",
              "cod_distrito                 6\n",
              "distrito                     6\n",
              "tipo_accidente               4\n",
              "estado_meteorológico     19459\n",
              "tipo_vehiculo              663\n",
              "tipo_persona                 3\n",
              "rango_edad                   0\n",
              "sexo                         0\n",
              "cod_lesividad            83603\n",
              "lesividad                83603\n",
              "coordenada_x_utm            34\n",
              "coordenada_y_utm            34\n",
              "positiva_alcohol           652\n",
              "positiva_droga          184745\n",
              "dtype: int64"
            ]
          },
          "metadata": {},
          "execution_count": 16
        }
      ]
    },
    {
      "cell_type": "code",
      "source": [
        "df_trafico['estado_meteorológico'].isna().sum()"
      ],
      "metadata": {
        "colab": {
          "base_uri": "https://localhost:8080/"
        },
        "id": "1PSn5G_mnRE7",
        "outputId": "fadce289-53e0-47d1-cb23-daae2f78d6f2"
      },
      "execution_count": 5,
      "outputs": [
        {
          "output_type": "execute_result",
          "data": {
            "text/plain": [
              "19459"
            ]
          },
          "metadata": {},
          "execution_count": 5
        }
      ]
    },
    {
      "cell_type": "code",
      "source": [
        "# Mostrar los valores nulos para cada campo\n",
        "df_trafico['estado_meteorológico'][df_trafico['estado_meteorológico'].isna()]"
      ],
      "metadata": {
        "colab": {
          "base_uri": "https://localhost:8080/"
        },
        "id": "UlshOy7sq7tf",
        "outputId": "ac5d91ff-8f0a-4ef8-c02b-23ad5d5703af"
      },
      "execution_count": 6,
      "outputs": [
        {
          "output_type": "execute_result",
          "data": {
            "text/plain": [
              "2         NaN\n",
              "3         NaN\n",
              "4         NaN\n",
              "14        NaN\n",
              "51        NaN\n",
              "         ... \n",
              "185217    NaN\n",
              "185218    NaN\n",
              "185243    NaN\n",
              "185244    NaN\n",
              "185250    NaN\n",
              "Name: estado_meteorológico, Length: 19459, dtype: object"
            ]
          },
          "metadata": {},
          "execution_count": 6
        }
      ]
    },
    {
      "cell_type": "markdown",
      "source": [
        "Crear gráfica de barras"
      ],
      "metadata": {
        "id": "Q9OZaJhxrnyA"
      }
    },
    {
      "cell_type": "code",
      "source": [
        "conteo_sexo =df_trafico['sexo'].value_counts()\n",
        "print(conteo_sexo)\n"
      ],
      "metadata": {
        "colab": {
          "base_uri": "https://localhost:8080/"
        },
        "id": "RPccYsaVrrwe",
        "outputId": "ad372359-4b1c-4df3-ac04-55fcab14f658"
      },
      "execution_count": 7,
      "outputs": [
        {
          "output_type": "stream",
          "name": "stdout",
          "text": [
            "Hombre         112089\n",
            "Mujer           53487\n",
            "Desconocido     19692\n",
            "Name: sexo, dtype: int64\n"
          ]
        }
      ]
    },
    {
      "cell_type": "code",
      "source": [
        "df_trafico['sexo'] = df_trafico['sexo'].replace('Desconocido', 'prefiere no contestar')\n",
        "conteo_sexo =df_trafico['sexo'].value_counts()\n",
        "print(conteo_sexo)\n"
      ],
      "metadata": {
        "colab": {
          "base_uri": "https://localhost:8080/"
        },
        "id": "wtA0TrvwsK_y",
        "outputId": "79be49b7-6ce2-454d-ba8a-7cd5ffaa01bc"
      },
      "execution_count": 8,
      "outputs": [
        {
          "output_type": "stream",
          "name": "stdout",
          "text": [
            "Hombre                   112089\n",
            "Mujer                     53487\n",
            "prefiere no contestar     19692\n",
            "Name: sexo, dtype: int64\n"
          ]
        }
      ]
    },
    {
      "cell_type": "markdown",
      "source": [
        "grafica de barras"
      ],
      "metadata": {
        "id": "E9QswYoMtDHv"
      }
    },
    {
      "cell_type": "code",
      "source": [
        "conteo_sexo.plot(kind='bar')\n",
        "plt.xlabel('sexo')\n",
        "plt.ylabel('conteo')\n",
        "plt.title('sexo de las personas que tuvieron un accidente')"
      ],
      "metadata": {
        "colab": {
          "base_uri": "https://localhost:8080/",
          "height": 621
        },
        "id": "1oS-wWG0tFQE",
        "outputId": "f883648b-57a0-4e10-9c28-ba690faf4104"
      },
      "execution_count": 17,
      "outputs": [
        {
          "output_type": "execute_result",
          "data": {
            "text/plain": [
              "Text(0.5, 1.0, 'sexo de las personas que tuvieron un accidente')"
            ]
          },
          "metadata": {},
          "execution_count": 17
        },
        {
          "output_type": "display_data",
          "data": {
            "text/plain": [
              "<Figure size 640x480 with 1 Axes>"
            ],
            "image/png": "[encoded data removed]"
          },
          "metadata": {}
        }
      ]
    },
    {
      "cell_type": "markdown",
      "source": [
        "Estadística Básica para datos cuantitativos"
      ],
      "metadata": {
        "id": "FhpY6lQktnaC"
      }
    },
    {
      "cell_type": "code",
      "source": [
        "print(df_trafico['cod_distrito'].mean())\n"
      ],
      "metadata": {
        "colab": {
          "base_uri": "https://localhost:8080/"
        },
        "id": "P-5AEji7t03-",
        "outputId": "fabe739d-0ce8-4dcc-b149-1f8942e8738c"
      },
      "execution_count": 10,
      "outputs": [
        {
          "output_type": "stream",
          "name": "stdout",
          "text": [
            "9.894581727499434\n"
          ]
        }
      ]
    },
    {
      "cell_type": "code",
      "source": [
        "print(df_trafico['cod_distrito'].median())"
      ],
      "metadata": {
        "colab": {
          "base_uri": "https://localhost:8080/"
        },
        "id": "ZOt3GkRRt_5T",
        "outputId": "468a9ad7-2192-44ca-f59e-53e84c295259"
      },
      "execution_count": 11,
      "outputs": [
        {
          "output_type": "stream",
          "name": "stdout",
          "text": [
            "10.0\n"
          ]
        }
      ]
    },
    {
      "cell_type": "code",
      "source": [
        "print('valor máximo:',df_trafico['cod_distrito'].max())\n",
        "print('valor mínimo:',df_trafico['cod_distrito'].min())\n",
        "valor_maximo = df_trafico['cod_distrito'].max()\n",
        "valor_minimo = df_trafico['cod_distrito'].min()\n",
        "rango = valor_maximo-valor_minimo\n",
        "print('rango: ',rango)"
      ],
      "metadata": {
        "colab": {
          "base_uri": "https://localhost:8080/"
        },
        "id": "EB3Oncv0uB1Y",
        "outputId": "55213933-a055-4daa-dcc2-aeeeba0ab24f"
      },
      "execution_count": 12,
      "outputs": [
        {
          "output_type": "stream",
          "name": "stdout",
          "text": [
            "valor máximo: 21.0\n",
            "valor mínimo: 1.0\n",
            "rango:  20.0\n"
          ]
        }
      ]
    },
    {
      "cell_type": "code",
      "source": [
        "print('Promedio: ', df_trafico['cod_distrito'].mean())\n",
        "print('Media: ', df_trafico['cod_distrito'].median())\n",
        "rango = df_trafico['cod_distrito'].max () - df_trafico['cod_distrito'].min()\n",
        "print('Rango: ', rango)\n",
        "print('Varianza: ', np.var(df_trafico['cod_distrito']))\n",
        "print('Desviación Estándar: ', np.std(df_trafico['cod_distrito']))\n",
        "print('Valor máximo', df_trafico['cod_distrito'].max())\n",
        "print('Valor mínimo', df_trafico['cod_distrito'].min())\n",
        "\n",
        "#Histograma\n",
        "Data = df_trafico.iloc[:,5]\n",
        "plt.figure()\n",
        "data = np.array(Data)\n",
        "fig, ax = plt.subplots()\n",
        "ax.set_title('Histograma')\n",
        "ax.set_ylabel('frecuencia')\n",
        "ax.set_xlabel('Distrito')\n",
        "plt.hist(data,bins = 5)\n",
        "plt.show\n",
        "\n",
        "#Caja Bigote\n",
        "plt.figure()\n",
        "fig,ax = plt.subplots()\n",
        "ax.set_title('Diagrama caja Bigote')\n",
        "plt.boxplot(df_trafico['cod_distrito'].dropna())"
      ],
      "metadata": {
        "colab": {
          "base_uri": "https://localhost:8080/",
          "height": 1000
        },
        "id": "Ia_gc0XP_59q",
        "outputId": "f3f1f0e5-cf44-4cbd-e78e-92a4411c3c19"
      },
      "execution_count": 13,
      "outputs": [
        {
          "output_type": "stream",
          "name": "stdout",
          "text": [
            "Promedio:  9.894581727499434\n",
            "Media:  10.0\n",
            "Rango:  20.0\n",
            "Varianza:  31.803527874783086\n",
            "Desviación Estándar:  5.6394616653350065\n",
            "Valor máximo 21.0\n",
            "Valor mínimo 1.0\n"
          ]
        },
        {
          "output_type": "execute_result",
          "data": {
            "text/plain": [
              "{'whiskers': [<matplotlib.lines.Line2D at 0x7f4a48fcaf20>,\n",
              "  <matplotlib.lines.Line2D at 0x7f4a48fcb1c0>],\n",
              " 'caps': [<matplotlib.lines.Line2D at 0x7f4a48fcb460>,\n",
              "  <matplotlib.lines.Line2D at 0x7f4a48fcb700>],\n",
              " 'boxes': [<matplotlib.lines.Line2D at 0x7f4a48fcac80>],\n",
              " 'medians': [<matplotlib.lines.Line2D at 0x7f4a48fcb9a0>],\n",
              " 'fliers': [<matplotlib.lines.Line2D at 0x7f4a48fcbc40>],\n",
              " 'means': []}"
            ]
          },
          "metadata": {},
          "execution_count": 13
        },
        {
          "output_type": "display_data",
          "data": {
            "text/plain": [
              "<Figure size 640x480 with 0 Axes>"
            ]
          },
          "metadata": {}
        },
        {
          "output_type": "display_data",
          "data": {
            "text/plain": [
              "<Figure size 640x480 with 1 Axes>"
            ],
            "image/png": "[encoded data removed]"
          },
          "metadata": {}
        },
        {
          "output_type": "display_data",
          "data": {
            "text/plain": [
              "<Figure size 640x480 with 0 Axes>"
            ]
          },
          "metadata": {}
        },
        {
          "output_type": "display_data",
          "data": {
            "text/plain": [
              "<Figure size 640x480 with 1 Axes>"
            ],
            "image/png": "[encoded data removed]"
          },
          "metadata": {}
        }
      ]
    }
  ]
}